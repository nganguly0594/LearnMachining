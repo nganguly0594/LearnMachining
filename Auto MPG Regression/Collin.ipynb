{
 "cells": [
  {
   "cell_type": "code",
   "execution_count": 18,
   "metadata": {},
   "outputs": [],
   "source": [
    "import numpy as np\n",
    "import pandas as pd\n",
    "import seaborn as sns"
   ]
  },
  {
   "cell_type": "code",
   "execution_count": 19,
   "metadata": {},
   "outputs": [],
   "source": [
    "dfFull = pd.read_csv('../Datasets/auto-mpg.csv', delim_whitespace=True)\n",
    "dfFull.columns = [\"mpg\", \"cylinders\", \"displacement\", \"horsepower\", \"weight\", \"acceleration\", \"model year\", \"origin\", \"car name\"]"
   ]
  },
  {
   "cell_type": "code",
   "execution_count": 20,
   "metadata": {},
   "outputs": [
    {
     "name": "stdout",
     "output_type": "stream",
     "text": [
      "<class 'pandas.core.frame.DataFrame'>\n",
      "RangeIndex: 397 entries, 0 to 396\n",
      "Data columns (total 8 columns):\n",
      " #   Column        Non-Null Count  Dtype  \n",
      "---  ------        --------------  -----  \n",
      " 0   mpg           397 non-null    float64\n",
      " 1   cylinders     397 non-null    int64  \n",
      " 2   displacement  397 non-null    float64\n",
      " 3   horsepower    397 non-null    object \n",
      " 4   weight        397 non-null    float64\n",
      " 5   acceleration  397 non-null    float64\n",
      " 6   model year    397 non-null    int64  \n",
      " 7   origin        397 non-null    int64  \n",
      "dtypes: float64(4), int64(3), object(1)\n",
      "memory usage: 24.9+ KB\n"
     ]
    }
   ],
   "source": [
    "df=dfFull.iloc[:,0:8]\n",
    "df.info()"
   ]
  },
  {
   "cell_type": "code",
   "execution_count": 21,
   "metadata": {},
   "outputs": [
    {
     "name": "stderr",
     "output_type": "stream",
     "text": [
      "C:\\Users\\ctoconnor\\AppData\\Local\\Temp\\ipykernel_16960\\1273310253.py:2: UserWarning: Pandas doesn't allow columns to be created via a new attribute name - see https://pandas.pydata.org/pandas-docs/stable/indexing.html#attribute-access\n",
      "  df.horespower=df.horsepower.astype('float')\n"
     ]
    }
   ],
   "source": [
    "df=df[df.horsepower!='?']\n",
    "df.horespower=df.horsepower.astype('float')"
   ]
  },
  {
   "cell_type": "code",
   "execution_count": 22,
   "metadata": {},
   "outputs": [
    {
     "ename": "TypeError",
     "evalue": "tri() missing 1 required positional argument: 'N'",
     "output_type": "error",
     "traceback": [
      "\u001b[1;31m---------------------------------------------------------------------------\u001b[0m",
      "\u001b[1;31mTypeError\u001b[0m                                 Traceback (most recent call last)",
      "Cell \u001b[1;32mIn[22], line 2\u001b[0m\n\u001b[0;32m      1\u001b[0m corr\u001b[39m=\u001b[39mdf\u001b[39m.\u001b[39mcorr\n\u001b[1;32m----> 2\u001b[0m sns\u001b[39m.\u001b[39mheatmap(corr,annot\u001b[39m=\u001b[39m\u001b[39mTrue\u001b[39;00m,cmap\u001b[39m=\u001b[39m\u001b[39m'\u001b[39m\u001b[39mvflag\u001b[39m\u001b[39m'\u001b[39m,mask\u001b[39m=\u001b[39mnp\u001b[39m.\u001b[39;49mtriu(corr))\n",
      "File \u001b[1;32m<__array_function__ internals>:180\u001b[0m, in \u001b[0;36mtriu\u001b[1;34m(*args, **kwargs)\u001b[0m\n",
      "File \u001b[1;32m~\\AppData\\Roaming\\Python\\Python310\\site-packages\\numpy\\lib\\twodim_base.py:536\u001b[0m, in \u001b[0;36mtriu\u001b[1;34m(m, k)\u001b[0m\n\u001b[0;32m    499\u001b[0m \u001b[39m\"\"\"\u001b[39;00m\n\u001b[0;32m    500\u001b[0m \u001b[39mUpper triangle of an array.\u001b[39;00m\n\u001b[0;32m    501\u001b[0m \n\u001b[1;32m   (...)\u001b[0m\n\u001b[0;32m    533\u001b[0m \n\u001b[0;32m    534\u001b[0m \u001b[39m\"\"\"\u001b[39;00m\n\u001b[0;32m    535\u001b[0m m \u001b[39m=\u001b[39m asanyarray(m)\n\u001b[1;32m--> 536\u001b[0m mask \u001b[39m=\u001b[39m tri(\u001b[39m*\u001b[39;49mm\u001b[39m.\u001b[39;49mshape[\u001b[39m-\u001b[39;49m\u001b[39m2\u001b[39;49m:], k\u001b[39m=\u001b[39;49mk\u001b[39m-\u001b[39;49m\u001b[39m1\u001b[39;49m, dtype\u001b[39m=\u001b[39;49m\u001b[39mbool\u001b[39;49m)\n\u001b[0;32m    538\u001b[0m \u001b[39mreturn\u001b[39;00m where(mask, zeros(\u001b[39m1\u001b[39m, m\u001b[39m.\u001b[39mdtype), m)\n",
      "\u001b[1;31mTypeError\u001b[0m: tri() missing 1 required positional argument: 'N'"
     ]
    }
   ],
   "source": [
    "corr=df.corr\n",
    "sns.heatmap(corr,annot=True,cmap='vflag',mask=np.triu(corr))"
   ]
  }
 ],
 "metadata": {
  "kernelspec": {
   "display_name": "Python 3",
   "language": "python",
   "name": "python3"
  },
  "language_info": {
   "codemirror_mode": {
    "name": "ipython",
    "version": 3
   },
   "file_extension": ".py",
   "mimetype": "text/x-python",
   "name": "python",
   "nbconvert_exporter": "python",
   "pygments_lexer": "ipython3",
   "version": "3.10.5"
  },
  "orig_nbformat": 4,
  "vscode": {
   "interpreter": {
    "hash": "26de051ba29f2982a8de78e945f0abaf191376122a1563185a90213a26c5da77"
   }
  }
 },
 "nbformat": 4,
 "nbformat_minor": 2
}
