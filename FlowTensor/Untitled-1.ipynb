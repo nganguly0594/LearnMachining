{
 "cells": [
  {
   "cell_type": "code",
   "execution_count": 1,
   "metadata": {},
   "outputs": [
    {
     "name": "stdout",
     "output_type": "stream",
     "text": [
      "TensorFlow Version: 2.11.0\n"
     ]
    },
    {
     "data": {
      "text/plain": [
       "2.237186"
      ]
     },
     "execution_count": 1,
     "metadata": {},
     "output_type": "execute_result"
    }
   ],
   "source": [
    "import numpy as np\n",
    "import pandas as pd\n",
    "import tensorflow as tf\n",
    "print (\"TensorFlow Version:\", tf.__version__)\n",
    "\n",
    "mnist = tf.keras.datasets.mnist\n",
    "\n",
    "(x_train, y_train), (x_test, y_test) = mnist.load_data()\n",
    "#convert the data to floating point numbers\n",
    "x_train, x_test = x_train / 255.0, x_test / 255.0\n",
    "\n",
    "#build a model\n",
    "model = tf.keras.models.Sequential(\n",
    "    [\n",
    "        tf.keras.layers.Flatten(input_shape = (28, 28)),  #as a rule of thumb, the first layer is flatten in order to preserve the node count\n",
    "        tf.keras.layers.Dense(units = 128, activation = \"relu\"),  \n",
    "        tf.keras.layers.Dropout(0.2),  #prevents overfitting by randomly turning nueron weight to 0 at a rate of 0.2\n",
    "        tf.keras.layers.Dense(10)\n",
    "\n",
    "    ]\n",
    ")\n",
    "\n",
    "predictions = model(x_train[:1])  #the __call__ method differs from predict in that it doesn't scale to large models, ouputs a tensor, and is used for small models\n",
    "predictions #predictions is a bunch of logits matrices, which basically are a raw prediction generated from the model (remember that the model is 0 - 10)\n",
    "tf.nn.softmax(predictions).numpy() #converts to raw probabilities for each class\n",
    "\n",
    "#a loss function : loss functions basically are like error functions that score the model\n",
    "loss_fn = tf.keras.losses.SparseCategoricalCrossentropy(from_logits = True)   #cross entropy loss is a type of loss for classification models that is within a probability of [0,1]\n",
    "#loss is negative log of true class, loss is 0 if perfect, loss is around 2.3 if random (1/10)\n",
    "loss_fn(y_train[:1], predictions).numpy()\n",
    "\n"
   ]
  }
 ],
 "metadata": {
  "kernelspec": {
   "display_name": "Python 3",
   "language": "python",
   "name": "python3"
  },
  "language_info": {
   "codemirror_mode": {
    "name": "ipython",
    "version": 3
   },
   "file_extension": ".py",
   "mimetype": "text/x-python",
   "name": "python",
   "nbconvert_exporter": "python",
   "pygments_lexer": "ipython3",
   "version": "3.10.5"
  },
  "orig_nbformat": 4,
  "vscode": {
   "interpreter": {
    "hash": "26de051ba29f2982a8de78e945f0abaf191376122a1563185a90213a26c5da77"
   }
  }
 },
 "nbformat": 4,
 "nbformat_minor": 2
}
