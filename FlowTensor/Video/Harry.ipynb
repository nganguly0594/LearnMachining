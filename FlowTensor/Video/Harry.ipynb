{
 "cells": [
  {
   "attachments": {},
   "cell_type": "markdown",
   "metadata": {},
   "source": [
    "# Import all of the tools\n"
   ]
  },
  {
   "cell_type": "code",
   "execution_count": null,
   "metadata": {},
   "outputs": [],
   "source": [
    "import tqdm #progress bar\n",
    "import random\n",
    "import pathlib #file paths but better\n",
    "import itertools #iteration\n",
    "import collections #container datatypes\n",
    "import cv2 #opencv for video processing tools\n",
    "import einops #complex tensor operations\n",
    "import numpy as np\n",
    "import remotezip as rz #zip file tools, inspect inside\n",
    "import seaborn as sns\n",
    "import matplotlib.pyplot as plt\n",
    "\n",
    "import tensorflow as tf\n",
    "import keras\n",
    "from keras import layers"
   ]
  }
 ],
 "metadata": {
  "language_info": {
   "name": "python"
  },
  "orig_nbformat": 4
 },
 "nbformat": 4,
 "nbformat_minor": 2
}
