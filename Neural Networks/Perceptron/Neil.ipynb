{
 "cells": [
  {
   "cell_type": "code",
   "execution_count": 7,
   "metadata": {},
   "outputs": [],
   "source": [
    "import numpy as np\n",
    "import pandas as pd"
   ]
  },
  {
   "cell_type": "code",
   "execution_count": 8,
   "metadata": {},
   "outputs": [],
   "source": [
    "rng = np.random.default_rng()"
   ]
  },
  {
   "cell_type": "code",
   "execution_count": 9,
   "metadata": {},
   "outputs": [],
   "source": [
    "lr = 1 #learning rate is 1\n",
    "bias = 1 #bias is 1\n",
    "weights = rng.random(5).tolist()"
   ]
  },
  {
   "cell_type": "code",
   "execution_count": 10,
   "metadata": {},
   "outputs": [],
   "source": [
    "def Perceptron(input1, input2, output):\n",
    "    outputP = input1 * weights[0] + input2 * weights[1] + bias * weights[2]\n",
    "    outputP = 1 / (1 + np.exp(-outputP))\n",
    "    error = output - outputP\n",
    "    weights[0] += error * input1 * lr\n",
    "    weights[1] += error * input2 * lr\n",
    "    weights[2] += error * bias * lr"
   ]
  },
  {
   "cell_type": "code",
   "execution_count": 11,
   "metadata": {},
   "outputs": [],
   "source": [
    "for i in range(50):\n",
    "    Perceptron(1, 1, 1)\n",
    "    Perceptron(1, 0, 1)\n",
    "    Perceptron(0, 1, 1)\n",
    "    Perceptron(0, 0, 0)"
   ]
  },
  {
   "cell_type": "code",
   "execution_count": 12,
   "metadata": {},
   "outputs": [
    {
     "name": "stdout",
     "output_type": "stream",
     "text": [
      "1 or 1 is: 0.9998414280453828\n"
     ]
    }
   ],
   "source": [
    "x = int(input(\"Enter x: \"))\n",
    "y = int(input(\"Enter y: \"))\n",
    "outputP = x * weights[0] + y * weights[1] + bias * weights[2]\n",
    "outputP = 1 / (1 + np.exp(-outputP))\n",
    "print(x, \"or\", y, \"is:\", outputP)"
   ]
  }
 ],
 "metadata": {
  "kernelspec": {
   "display_name": "Python 3",
   "language": "python",
   "name": "python3"
  },
  "language_info": {
   "codemirror_mode": {
    "name": "ipython",
    "version": 3
   },
   "file_extension": ".py",
   "mimetype": "text/x-python",
   "name": "python",
   "nbconvert_exporter": "python",
   "pygments_lexer": "ipython3",
   "version": "3.10.8"
  },
  "orig_nbformat": 4,
  "vscode": {
   "interpreter": {
    "hash": "1ca78a131a767f366434a033af259c26b46243c70d1ec3a21ba20afa8f6ab685"
   }
  }
 },
 "nbformat": 4,
 "nbformat_minor": 2
}
